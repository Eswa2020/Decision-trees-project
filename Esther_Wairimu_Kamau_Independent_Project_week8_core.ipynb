{
  "nbformat": 4,
  "nbformat_minor": 0,
  "metadata": {
    "colab": {
      "name": "Esther_Wairimu_Kamau_Independent_Project_week8_core",
      "provenance": [],
      "collapsed_sections": [],
      "authorship_tag": "ABX9TyOLTpUUKTsEnaVdyTqtCM3c",
      "include_colab_link": true
    },
    "kernelspec": {
      "name": "python3",
      "display_name": "Python 3"
    }
  },
  "cells": [
    {
      "cell_type": "markdown",
      "metadata": {
        "id": "view-in-github",
        "colab_type": "text"
      },
      "source": [
        "<a href=\"https://colab.research.google.com/github/Eswa2020/week_8_core_indepedent_project/blob/main/Esther_Wairimu_Kamau_Independent_Project_week8_core.ipynb\" target=\"_parent\"><img src=\"https://colab.research.google.com/assets/colab-badge.svg\" alt=\"Open In Colab\"/></a>"
      ]
    },
    {
      "cell_type": "markdown",
      "metadata": {
        "id": "JW1EsUKs4BkV"
      },
      "source": [
        "### 1. Defining the Question"
      ]
    },
    {
      "cell_type": "markdown",
      "metadata": {
        "id": "jJ4V28v74uj5"
      },
      "source": [
        "#### a) Specifying the Reserch Question"
      ]
    },
    {
      "cell_type": "markdown",
      "metadata": {
        "id": "LyIzZqgo5BdB"
      },
      "source": [
        "[link text](https://)\n",
        "Nairobi Hospital conducted a clinical camp to test for hypothyroidism. The data collected focused on Thyroid patients. We are to use the healthcare datasets provided to accomplish the following:  \n",
        "\n",
        "**Build a model that determines whether or not the patient's symptoms indicate that the patient has hypothyroid.**\n",
        "\n",
        "We should use the following two criterions:\n",
        "\n",
        "Part 1: Decision trees:\n",
        "- For this section, you should build a model that makes the above prediction. You should not use individual decision trees, rather you should use at least 2 out of the 3 advanced models we have studied: Random forests, Ada boosted trees, and gradient boosted trees.\n",
        "- Try and optimize each of the 2 models, making sure to document how you've set up your hyperparameters.\n",
        "- Identify which of the 2 models you trust most, and use your model to determine which features are most impactful in influencing the prediction\n",
        "- Note that with decision trees, you don't need to do a lot of data cleaning. This will be very different with SVM.\n",
        "\n",
        "Part 2: SVM:\n",
        "\n",
        "- In this section, you may be required to clean the data a little bit so as to make sense of the features.\n",
        "\n",
        "- Document what transformation you've done on the data.\n",
        "\n",
        "- Apply Polynomial, linear and rbf kernel function to build your SVM model and then evaluate their performance and pick the kernel that performs the best. Remember to tune your parameters to improve the performance of your model. To make your life easier, make sure to visualize the models you've created. Use any two features to build the models for this step.\n",
        "\n",
        "Hint: You may want to use decision trees to give you the most preferable features you can use. but also keep in mind that those features might not be suitable for SVM. It might be a good idea to graph them first.\n",
        "\n",
        "-  After getting your best performing kernel, use this kernel together with your tuned parameters and repeat the prediction but this time using additional features. Compare the model you've just created with the 2-features version. \n"
      ]
    },
    {
      "cell_type": "markdown",
      "metadata": {
        "id": "J0BaFTrE6Qzw"
      },
      "source": [
        "#### b) Defining the Metrics of Success"
      ]
    },
    {
      "cell_type": "markdown",
      "metadata": {
        "id": "BETovuFo6l2M"
      },
      "source": [
        "We will have accomplished our objective if we get at models matching all the above-mentioned criteria."
      ]
    },
    {
      "cell_type": "markdown",
      "metadata": {
        "id": "Snj8kqhF67Z0"
      },
      "source": [
        "#### c) Understanding the context"
      ]
    },
    {
      "cell_type": "markdown",
      "metadata": {
        "id": "4nBODZCo67NQ"
      },
      "source": [
        "**Introduction**\n",
        "\n",
        "Thyroid diseases are common worldwide and affecting\n",
        "health life. In this notebook, we have made an attempt to diagnosis\n",
        "hypothyroid. This notebook analyzes few essential variables\n",
        "affecting thyroid.To overcome the problem we have come\n",
        "here with a novel solution approach to identify key factors\n",
        "affecting hypothyroid using data analysis tools. This notebook presents\n",
        "thyroid data analysis, classification and prediction. \n",
        "\n",
        "**Overview** \n",
        "\n",
        "Hypothyroidism (underactive thyroid) is a condition in which your thyroid gland doesn't produce enough of certain crucial hormones.\n",
        "\n",
        "Hypothyroidism may not cause noticeable symptoms in the early stages. Over time, untreated hypothyroidism can cause a number of health problems, such as obesity, joint pain, infertility and heart disease.\n",
        "\n",
        "Accurate thyroid function tests are available to diagnose hypothyroidism.\n",
        "\n",
        "**Symptoms**\n",
        "\n",
        "The signs and symptoms of hypothyroidism vary, depending on the severity of the hormone deficiency. Problems tend to develop slowly, often over a number of years.\n",
        "\n",
        "At first, you may barely notice the symptoms of hypothyroidism, such as fatigue and weight gain. Or you may simply attribute them to getting older. But as your metabolism continues to slow, you may develop more-obvious problems.\n",
        "\n",
        "Hypothyroidism signs and symptoms may include:\n",
        "\n",
        "* Fatigue\n",
        "* Increased sensitivity to cold\n",
        "* Constipation\n",
        "* Dry skin\n",
        "* Weight gain\n",
        "* Muscle weakness\n",
        "* Thinning hair\n",
        "* Slowed heart rate\n",
        "* Depression\n",
        "* Impaired memory\n",
        "* Enlarged thyroid gland (goiter)\n",
        "\n",
        "**Causes**\n",
        "When your thyroid doesn't produce enough hormones, the balance of chemical reactions in your body can be upset.\n",
        "\n",
        "Your thyroid is a small, butterfly-shaped gland situated at the base of the front of your neck, just below your Adam's apple. Hormones produced by the thyroid gland — **triiodothyronine (T3) **and **thyroxine (T4)** — have an enormous impact on your health, affecting all aspects of your metabolism. These hormones also influence the control of vital functions, such as body temperature and heart rate.\n",
        "\n",
        "Hypothyroidism may be due to a number of factors, including:\n",
        "\n",
        "**Autoimmune disease**. The most common cause of hypothyroidism is an autoimmune disorder known as Hashimoto's thyroiditis. Autoimmune disorders occur when your immune system produces antibodies that attack your own tissues. Sometimes this process involves your thyroid gland.\n",
        "Scientists aren't sure why this happens, but it's likely a combination of factors, such as your genes and an environmental trigger. \n",
        "\n",
        "**Over-response to hyperthyroidism treatment**. People who produce too much thyroid hormone (hyperthyroidism) are often treated with radioactive iodine or anti-thyroid medications. The goal of these treatments is to get thyroid function back to normal. But sometimes, correcting hyperthyroidism can end up lowering thyroid hormone production too much, resulting in permanent hypothyroidism.\n",
        "\n",
        "**Thyroid surgery.** Removing all or a large portion of your thyroid gland can diminish or halt hormone production. In that case, you'll need to take thyroid hormone for life.\n",
        "\n",
        "**Radiation therapy.** Radiation used to treat cancers of the head and neck can affect your thyroid gland and may lead to hypothyroidism.\n",
        "\n",
        "**Medications.** A number of medications can contribute to hypothyroidism. One such medication is lithium, which is used to treat certain psychiatric disorders. If you're taking medication, ask your doctor about its effect on your thyroid gland.\n",
        "\n",
        "Less often, hypothyroidism may result from one of the following:\n",
        "\n",
        "**Congenital disease.** Some babies are born with a defective thyroid gland or no thyroid gland. In most cases, the thyroid gland didn't develop normally for unknown reasons, but some children have an inherited form of the disorder. Often, infants with congenital hypothyroidism appear normal at birth. That's one reason why most states now require newborn thyroid screening.\n",
        "\n",
        "**Pituitary disorder**. A relatively rare cause of hypothyroidism is the failure of the pituitary gland to produce enough thyroid-stimulating hormone (TSH) — usually because of a benign tumor of the pituitary gland.\n",
        "\n",
        "**Pregnancy**. Some women develop hypothyroidism during or after pregnancy (postpartum hypothyroidism), often because they produce antibodies to their own thyroid gland. Left untreated, hypothyroidism increases the risk of miscarriage, premature delivery and preeclampsia.\n",
        "\n",
        "**Iodine deficiency**. The trace mineral iodine — found primarily in seafood, seaweed, plants grown in iodine-rich soil and iodized salt — is essential for the production of thyroid hormones. Too little iodine can lead to hypothyroidism, and too much iodine can worsen hypothyroidism in people who already have the condition.\n",
        "\n",
        "**Statistics**\n",
        "In some parts of the world, iodine deficiency is common, but the addition of iodine to table salt has virtually eliminated this problem in the United States.\n",
        "\n",
        "**In Kenya the statistics are vague and very few studies to back up the numbers**.\n",
        "\n",
        "**Why Do I Need a Serum TBG Level Test?**\n",
        "Your doctor may order a serum TBG level test to assess thyroid issues. It can help your doctor diagnose various thyroid disorders, including hypothyroidism and hyperthyroidism.\n",
        "\n",
        "The symptoms of thyroid issues may prompt your doctor to order this test. These symptoms can include:\n",
        "\n",
        "* constipation\n",
        "* diarrhea\n",
        "* changes in your sleep pattern, such as insomnia, daytime fatigue, or prolonged sleep that isn’t refreshing.etc...\n",
        "**What Do the Results Mean?**\n",
        "\n",
        "**Normal Results**\n",
        "The normal result range will vary slightly depending on the type of technique the laboratory uses. The two main types of laboratory techniques used for the serum TBG test are electrophoresis and radioimmunoassay. Typically, your results for both types of test are measured in milligrams per 100 milliliters, or mg/100 mL.\n",
        "\n",
        "* Electrophoresis\n",
        "\n",
        "During electrophoresis, a lab technician places part of your blood called the serum on specially treated paper or a gel-like substance. An electric current then runs through it. The proteins move along the paper or gel and form bands that indicate how much of each protein is in the sample. A lab can analyze these results. If the lab used electrophoresis to test your sample, then normal results will range from 10 to 24 mg/100 mL.\n",
        "\n",
        "* Radioimmunoassay\n",
        "\n",
        "Radioimmunoassayinvolves exposing a sample of your blood to an antibody. That antibody will attach to TBG. The antibody has a low-level radioactive isotope attached to it. The lab can then measure the amount of radiation in the sample, which indicates the amount of TBG in your blood. If the lab used radioimmunoassay to test your sample, then normal results will range from 1.3 to 2.0 mg/100 mL.\n",
        "\n",
        "The exact standards for normal results may vary depending on your doctor and lab. .\n",
        "\n",
        "**Abnormal Results**\n",
        "\n",
        "High TBG levels don’t always indicate that you have a problem. High results on this test are normal in pregnancy and in newborns.\n",
        "\n",
        "In other cases, high TBG levels may be due to liver disease, a rare genetic blood disorder called “acute intermittent porphyria,” or hypothyroidism, which occurs when your thyroid doesn’t produce enough thyroid hormone.\n",
        "\n",
        "Low TBG levels may be due to:\n",
        "\n",
        "* acromegaly, which occurs when you have too much growth hormone and the body grows disproportionately as a result\n",
        "* acute illness because your body’s production of thyroid hormones decreases when you’re sick\n",
        "* hyperthyroidism, which is an increased production of thyroid hormones\n",
        "malnutrition\n",
        "* nephrotic syndrome, which is a group of syndromes caused by kidney damage that can lead to protein in the urine and high cholesterol levels"
      ]
    },
    {
      "cell_type": "markdown",
      "metadata": {
        "id": "t7GGuFsvaYjO"
      },
      "source": [
        "### 2. Objective of the Project\n",
        "The main objective of this project is to determine factors affecting prices of houses and developing a model to effectively predict the sale prices.\n",
        "\n",
        "* Definition of the research question and metrics of success.\n",
        "\n",
        "* Loading of Dataset to Colab.\n",
        "\n",
        "* Validation.\n",
        "\n",
        "* Tidying the dataset.\n",
        "\n",
        "* Exploratory Data Analysis: Univariate Analysis, Bivariate Analysis &    Multivariate Analysis\n",
        "\n",
        "* Decision trees\n",
        "\n",
        "* svm-get best performimg kernel\n",
        "\n",
        "* Chalenging the solution\n",
        "\n",
        "* Conclusion\n",
        "\n",
        "Tools required for the project;\n",
        "\n",
        "* Google Colab\n",
        "\n",
        "* Python Library (Pandas, Numpy, matplotlib.pyplot, Seaborn, Sklearn)\n",
        "\n",
        "* Github"
      ]
    },
    {
      "cell_type": "markdown",
      "metadata": {
        "id": "i5S1cPkHlWGj"
      },
      "source": [
        "### 3. Importing Libraries and loading datasets"
      ]
    },
    {
      "cell_type": "code",
      "metadata": {
        "id": "kaNRiLd2301f"
      },
      "source": [
        "#importing our libraries\n",
        "import pandas as pd\n",
        "import numpy as np\n",
        "import seaborn as sns\n",
        "import matplotlib.pyplot as plt"
      ],
      "execution_count": 11,
      "outputs": []
    },
    {
      "cell_type": "code",
      "metadata": {
        "id": "KWdHOWepqfV3"
      },
      "source": [
        "#loading our datasets\n",
        "df_thyroid = pd.read_csv('/content/hypothyroid.csv')"
      ],
      "execution_count": 13,
      "outputs": []
    },
    {
      "cell_type": "markdown",
      "metadata": {
        "id": "xjEqhXBvqsaH"
      },
      "source": [
        "### 4. Exploring our Dataset"
      ]
    },
    {
      "cell_type": "code",
      "metadata": {
        "colab": {
          "base_uri": "https://localhost:8080/",
          "height": 211
        },
        "id": "18EkqaNOq3zW",
        "outputId": "1d6b69ae-ebf9-43ff-e1cf-fcf0bf1aebba"
      },
      "source": [
        "df_thyroid.head()"
      ],
      "execution_count": 3,
      "outputs": [
        {
          "output_type": "execute_result",
          "data": {
            "text/html": [
              "<div>\n",
              "<style scoped>\n",
              "    .dataframe tbody tr th:only-of-type {\n",
              "        vertical-align: middle;\n",
              "    }\n",
              "\n",
              "    .dataframe tbody tr th {\n",
              "        vertical-align: top;\n",
              "    }\n",
              "\n",
              "    .dataframe thead th {\n",
              "        text-align: right;\n",
              "    }\n",
              "</style>\n",
              "<table border=\"1\" class=\"dataframe\">\n",
              "  <thead>\n",
              "    <tr style=\"text-align: right;\">\n",
              "      <th></th>\n",
              "      <th>status</th>\n",
              "      <th>age</th>\n",
              "      <th>sex</th>\n",
              "      <th>on_thyroxine</th>\n",
              "      <th>query_on_thyroxine</th>\n",
              "      <th>on_antithyroid_medication</th>\n",
              "      <th>thyroid_surgery</th>\n",
              "      <th>query_hypothyroid</th>\n",
              "      <th>query_hyperthyroid</th>\n",
              "      <th>pregnant</th>\n",
              "      <th>sick</th>\n",
              "      <th>tumor</th>\n",
              "      <th>lithium</th>\n",
              "      <th>goitre</th>\n",
              "      <th>TSH_measured</th>\n",
              "      <th>TSH</th>\n",
              "      <th>T3_measured</th>\n",
              "      <th>T3</th>\n",
              "      <th>TT4_measured</th>\n",
              "      <th>TT4</th>\n",
              "      <th>T4U_measured</th>\n",
              "      <th>T4U</th>\n",
              "      <th>FTI_measured</th>\n",
              "      <th>FTI</th>\n",
              "      <th>TBG_measured</th>\n",
              "      <th>TBG</th>\n",
              "    </tr>\n",
              "  </thead>\n",
              "  <tbody>\n",
              "    <tr>\n",
              "      <th>0</th>\n",
              "      <td>hypothyroid</td>\n",
              "      <td>72</td>\n",
              "      <td>M</td>\n",
              "      <td>f</td>\n",
              "      <td>f</td>\n",
              "      <td>f</td>\n",
              "      <td>f</td>\n",
              "      <td>f</td>\n",
              "      <td>f</td>\n",
              "      <td>f</td>\n",
              "      <td>f</td>\n",
              "      <td>f</td>\n",
              "      <td>f</td>\n",
              "      <td>f</td>\n",
              "      <td>y</td>\n",
              "      <td>30</td>\n",
              "      <td>y</td>\n",
              "      <td>0.60</td>\n",
              "      <td>y</td>\n",
              "      <td>15</td>\n",
              "      <td>y</td>\n",
              "      <td>1.48</td>\n",
              "      <td>y</td>\n",
              "      <td>10</td>\n",
              "      <td>n</td>\n",
              "      <td>?</td>\n",
              "    </tr>\n",
              "    <tr>\n",
              "      <th>1</th>\n",
              "      <td>hypothyroid</td>\n",
              "      <td>15</td>\n",
              "      <td>F</td>\n",
              "      <td>t</td>\n",
              "      <td>f</td>\n",
              "      <td>f</td>\n",
              "      <td>f</td>\n",
              "      <td>f</td>\n",
              "      <td>f</td>\n",
              "      <td>f</td>\n",
              "      <td>f</td>\n",
              "      <td>f</td>\n",
              "      <td>f</td>\n",
              "      <td>f</td>\n",
              "      <td>y</td>\n",
              "      <td>145</td>\n",
              "      <td>y</td>\n",
              "      <td>1.70</td>\n",
              "      <td>y</td>\n",
              "      <td>19</td>\n",
              "      <td>y</td>\n",
              "      <td>1.13</td>\n",
              "      <td>y</td>\n",
              "      <td>17</td>\n",
              "      <td>n</td>\n",
              "      <td>?</td>\n",
              "    </tr>\n",
              "    <tr>\n",
              "      <th>2</th>\n",
              "      <td>hypothyroid</td>\n",
              "      <td>24</td>\n",
              "      <td>M</td>\n",
              "      <td>f</td>\n",
              "      <td>f</td>\n",
              "      <td>f</td>\n",
              "      <td>f</td>\n",
              "      <td>f</td>\n",
              "      <td>f</td>\n",
              "      <td>f</td>\n",
              "      <td>f</td>\n",
              "      <td>f</td>\n",
              "      <td>f</td>\n",
              "      <td>f</td>\n",
              "      <td>y</td>\n",
              "      <td>0</td>\n",
              "      <td>y</td>\n",
              "      <td>0.20</td>\n",
              "      <td>y</td>\n",
              "      <td>4</td>\n",
              "      <td>y</td>\n",
              "      <td>1</td>\n",
              "      <td>y</td>\n",
              "      <td>0</td>\n",
              "      <td>n</td>\n",
              "      <td>?</td>\n",
              "    </tr>\n",
              "    <tr>\n",
              "      <th>3</th>\n",
              "      <td>hypothyroid</td>\n",
              "      <td>24</td>\n",
              "      <td>F</td>\n",
              "      <td>f</td>\n",
              "      <td>f</td>\n",
              "      <td>f</td>\n",
              "      <td>f</td>\n",
              "      <td>f</td>\n",
              "      <td>f</td>\n",
              "      <td>f</td>\n",
              "      <td>f</td>\n",
              "      <td>f</td>\n",
              "      <td>f</td>\n",
              "      <td>f</td>\n",
              "      <td>y</td>\n",
              "      <td>430</td>\n",
              "      <td>y</td>\n",
              "      <td>0.40</td>\n",
              "      <td>y</td>\n",
              "      <td>6</td>\n",
              "      <td>y</td>\n",
              "      <td>1.04</td>\n",
              "      <td>y</td>\n",
              "      <td>6</td>\n",
              "      <td>n</td>\n",
              "      <td>?</td>\n",
              "    </tr>\n",
              "    <tr>\n",
              "      <th>4</th>\n",
              "      <td>hypothyroid</td>\n",
              "      <td>77</td>\n",
              "      <td>M</td>\n",
              "      <td>f</td>\n",
              "      <td>f</td>\n",
              "      <td>f</td>\n",
              "      <td>f</td>\n",
              "      <td>f</td>\n",
              "      <td>f</td>\n",
              "      <td>f</td>\n",
              "      <td>f</td>\n",
              "      <td>f</td>\n",
              "      <td>f</td>\n",
              "      <td>f</td>\n",
              "      <td>y</td>\n",
              "      <td>7.30</td>\n",
              "      <td>y</td>\n",
              "      <td>1.20</td>\n",
              "      <td>y</td>\n",
              "      <td>57</td>\n",
              "      <td>y</td>\n",
              "      <td>1.28</td>\n",
              "      <td>y</td>\n",
              "      <td>44</td>\n",
              "      <td>n</td>\n",
              "      <td>?</td>\n",
              "    </tr>\n",
              "  </tbody>\n",
              "</table>\n",
              "</div>"
            ],
            "text/plain": [
              "        status age sex on_thyroxine  ... FTI_measured FTI TBG_measured TBG\n",
              "0  hypothyroid  72   M            f  ...            y  10            n   ?\n",
              "1  hypothyroid  15   F            t  ...            y  17            n   ?\n",
              "2  hypothyroid  24   M            f  ...            y   0            n   ?\n",
              "3  hypothyroid  24   F            f  ...            y   6            n   ?\n",
              "4  hypothyroid  77   M            f  ...            y  44            n   ?\n",
              "\n",
              "[5 rows x 26 columns]"
            ]
          },
          "metadata": {
            "tags": []
          },
          "execution_count": 3
        }
      ]
    },
    {
      "cell_type": "code",
      "metadata": {
        "colab": {
          "base_uri": "https://localhost:8080/",
          "height": 211
        },
        "id": "LmzuT4fiq7Ey",
        "outputId": "9fea3f5b-6619-4b49-b85b-7570aa3890a6"
      },
      "source": [
        "df_thyroid.tail()"
      ],
      "execution_count": 4,
      "outputs": [
        {
          "output_type": "execute_result",
          "data": {
            "text/html": [
              "<div>\n",
              "<style scoped>\n",
              "    .dataframe tbody tr th:only-of-type {\n",
              "        vertical-align: middle;\n",
              "    }\n",
              "\n",
              "    .dataframe tbody tr th {\n",
              "        vertical-align: top;\n",
              "    }\n",
              "\n",
              "    .dataframe thead th {\n",
              "        text-align: right;\n",
              "    }\n",
              "</style>\n",
              "<table border=\"1\" class=\"dataframe\">\n",
              "  <thead>\n",
              "    <tr style=\"text-align: right;\">\n",
              "      <th></th>\n",
              "      <th>status</th>\n",
              "      <th>age</th>\n",
              "      <th>sex</th>\n",
              "      <th>on_thyroxine</th>\n",
              "      <th>query_on_thyroxine</th>\n",
              "      <th>on_antithyroid_medication</th>\n",
              "      <th>thyroid_surgery</th>\n",
              "      <th>query_hypothyroid</th>\n",
              "      <th>query_hyperthyroid</th>\n",
              "      <th>pregnant</th>\n",
              "      <th>sick</th>\n",
              "      <th>tumor</th>\n",
              "      <th>lithium</th>\n",
              "      <th>goitre</th>\n",
              "      <th>TSH_measured</th>\n",
              "      <th>TSH</th>\n",
              "      <th>T3_measured</th>\n",
              "      <th>T3</th>\n",
              "      <th>TT4_measured</th>\n",
              "      <th>TT4</th>\n",
              "      <th>T4U_measured</th>\n",
              "      <th>T4U</th>\n",
              "      <th>FTI_measured</th>\n",
              "      <th>FTI</th>\n",
              "      <th>TBG_measured</th>\n",
              "      <th>TBG</th>\n",
              "    </tr>\n",
              "  </thead>\n",
              "  <tbody>\n",
              "    <tr>\n",
              "      <th>3158</th>\n",
              "      <td>negative</td>\n",
              "      <td>58</td>\n",
              "      <td>F</td>\n",
              "      <td>f</td>\n",
              "      <td>f</td>\n",
              "      <td>f</td>\n",
              "      <td>f</td>\n",
              "      <td>f</td>\n",
              "      <td>f</td>\n",
              "      <td>f</td>\n",
              "      <td>f</td>\n",
              "      <td>f</td>\n",
              "      <td>f</td>\n",
              "      <td>f</td>\n",
              "      <td>y</td>\n",
              "      <td>5.80</td>\n",
              "      <td>y</td>\n",
              "      <td>1.70</td>\n",
              "      <td>y</td>\n",
              "      <td>86</td>\n",
              "      <td>y</td>\n",
              "      <td>0.91</td>\n",
              "      <td>y</td>\n",
              "      <td>95</td>\n",
              "      <td>n</td>\n",
              "      <td>?</td>\n",
              "    </tr>\n",
              "    <tr>\n",
              "      <th>3159</th>\n",
              "      <td>negative</td>\n",
              "      <td>29</td>\n",
              "      <td>F</td>\n",
              "      <td>f</td>\n",
              "      <td>f</td>\n",
              "      <td>f</td>\n",
              "      <td>f</td>\n",
              "      <td>f</td>\n",
              "      <td>f</td>\n",
              "      <td>f</td>\n",
              "      <td>f</td>\n",
              "      <td>f</td>\n",
              "      <td>f</td>\n",
              "      <td>f</td>\n",
              "      <td>y</td>\n",
              "      <td>0.80</td>\n",
              "      <td>y</td>\n",
              "      <td>1.80</td>\n",
              "      <td>y</td>\n",
              "      <td>99</td>\n",
              "      <td>y</td>\n",
              "      <td>1.01</td>\n",
              "      <td>y</td>\n",
              "      <td>98</td>\n",
              "      <td>n</td>\n",
              "      <td>?</td>\n",
              "    </tr>\n",
              "    <tr>\n",
              "      <th>3160</th>\n",
              "      <td>negative</td>\n",
              "      <td>77</td>\n",
              "      <td>M</td>\n",
              "      <td>f</td>\n",
              "      <td>f</td>\n",
              "      <td>f</td>\n",
              "      <td>f</td>\n",
              "      <td>f</td>\n",
              "      <td>f</td>\n",
              "      <td>f</td>\n",
              "      <td>f</td>\n",
              "      <td>f</td>\n",
              "      <td>f</td>\n",
              "      <td>f</td>\n",
              "      <td>y</td>\n",
              "      <td>1.20</td>\n",
              "      <td>y</td>\n",
              "      <td>0.60</td>\n",
              "      <td>y</td>\n",
              "      <td>71</td>\n",
              "      <td>y</td>\n",
              "      <td>0.68</td>\n",
              "      <td>y</td>\n",
              "      <td>104</td>\n",
              "      <td>n</td>\n",
              "      <td>?</td>\n",
              "    </tr>\n",
              "    <tr>\n",
              "      <th>3161</th>\n",
              "      <td>negative</td>\n",
              "      <td>74</td>\n",
              "      <td>F</td>\n",
              "      <td>f</td>\n",
              "      <td>f</td>\n",
              "      <td>f</td>\n",
              "      <td>f</td>\n",
              "      <td>f</td>\n",
              "      <td>f</td>\n",
              "      <td>f</td>\n",
              "      <td>f</td>\n",
              "      <td>f</td>\n",
              "      <td>f</td>\n",
              "      <td>f</td>\n",
              "      <td>y</td>\n",
              "      <td>1.30</td>\n",
              "      <td>y</td>\n",
              "      <td>0.10</td>\n",
              "      <td>y</td>\n",
              "      <td>65</td>\n",
              "      <td>y</td>\n",
              "      <td>0.48</td>\n",
              "      <td>y</td>\n",
              "      <td>137</td>\n",
              "      <td>n</td>\n",
              "      <td>?</td>\n",
              "    </tr>\n",
              "    <tr>\n",
              "      <th>3162</th>\n",
              "      <td>negative</td>\n",
              "      <td>56</td>\n",
              "      <td>F</td>\n",
              "      <td>t</td>\n",
              "      <td>f</td>\n",
              "      <td>f</td>\n",
              "      <td>f</td>\n",
              "      <td>f</td>\n",
              "      <td>f</td>\n",
              "      <td>f</td>\n",
              "      <td>f</td>\n",
              "      <td>f</td>\n",
              "      <td>f</td>\n",
              "      <td>f</td>\n",
              "      <td>y</td>\n",
              "      <td>0</td>\n",
              "      <td>y</td>\n",
              "      <td>1.80</td>\n",
              "      <td>y</td>\n",
              "      <td>139</td>\n",
              "      <td>y</td>\n",
              "      <td>0.97</td>\n",
              "      <td>y</td>\n",
              "      <td>143</td>\n",
              "      <td>n</td>\n",
              "      <td>?</td>\n",
              "    </tr>\n",
              "  </tbody>\n",
              "</table>\n",
              "</div>"
            ],
            "text/plain": [
              "        status age sex on_thyroxine  ... FTI_measured  FTI TBG_measured TBG\n",
              "3158  negative  58   F            f  ...            y   95            n   ?\n",
              "3159  negative  29   F            f  ...            y   98            n   ?\n",
              "3160  negative  77   M            f  ...            y  104            n   ?\n",
              "3161  negative  74   F            f  ...            y  137            n   ?\n",
              "3162  negative  56   F            t  ...            y  143            n   ?\n",
              "\n",
              "[5 rows x 26 columns]"
            ]
          },
          "metadata": {
            "tags": []
          },
          "execution_count": 4
        }
      ]
    },
    {
      "cell_type": "code",
      "metadata": {
        "colab": {
          "base_uri": "https://localhost:8080/"
        },
        "id": "cDL3tpOM1bup",
        "outputId": "41980e2f-7a64-45f6-b065-c254b8f32e31"
      },
      "source": [
        "df_thyroid.TBG.value_counts()"
      ],
      "execution_count": 9,
      "outputs": [
        {
          "output_type": "execute_result",
          "data": {
            "text/plain": [
              "?       2903\n",
              "28        14\n",
              "25        13\n",
              "23        13\n",
              "21        13\n",
              "31        12\n",
              "20        12\n",
              "30        12\n",
              "19        10\n",
              "29        10\n",
              "33        10\n",
              "27        10\n",
              "26         9\n",
              "32         9\n",
              "36         9\n",
              "16         8\n",
              "17         8\n",
              "38         7\n",
              "18         7\n",
              "34         6\n",
              "35         5\n",
              "39         5\n",
              "110        5\n",
              "22         4\n",
              "108        4\n",
              "40         4\n",
              "37         4\n",
              "14         3\n",
              "24         3\n",
              "43         3\n",
              "41         2\n",
              "13         2\n",
              "53         2\n",
              "65         2\n",
              "15         2\n",
              "63         1\n",
              "48         1\n",
              "80         1\n",
              "12         1\n",
              "9.30       1\n",
              "52         1\n",
              "69         1\n",
              "47         1\n",
              "8.50       1\n",
              "8.40       1\n",
              "122        1\n",
              "86         1\n",
              "3.10       1\n",
              "0          1\n",
              "7.30       1\n",
              "11         1\n",
              "50         1\n",
              "45         1\n",
              "Name: TBG, dtype: int64"
            ]
          },
          "metadata": {
            "tags": []
          },
          "execution_count": 9
        }
      ]
    },
    {
      "cell_type": "code",
      "metadata": {
        "colab": {
          "base_uri": "https://localhost:8080/"
        },
        "id": "qGWm26NJ1mcD",
        "outputId": "1eddce9a-cd97-4595-981d-d9b84729b442"
      },
      "source": [
        "df_thyroid.TBG_measured.value_counts()"
      ],
      "execution_count": 8,
      "outputs": [
        {
          "output_type": "execute_result",
          "data": {
            "text/plain": [
              "n    2903\n",
              "y     260\n",
              "Name: TBG_measured, dtype: int64"
            ]
          },
          "metadata": {
            "tags": []
          },
          "execution_count": 8
        }
      ]
    },
    {
      "cell_type": "code",
      "metadata": {
        "colab": {
          "base_uri": "https://localhost:8080/"
        },
        "id": "YPYFNTcmrI3z",
        "outputId": "fca023a2-1bf3-4536-e470-41ac7a6485ac"
      },
      "source": [
        "df_thyroid.columns"
      ],
      "execution_count": 5,
      "outputs": [
        {
          "output_type": "execute_result",
          "data": {
            "text/plain": [
              "Index(['status', 'age', 'sex', 'on_thyroxine', 'query_on_thyroxine',\n",
              "       'on_antithyroid_medication', 'thyroid_surgery', 'query_hypothyroid',\n",
              "       'query_hyperthyroid', 'pregnant', 'sick', 'tumor', 'lithium', 'goitre',\n",
              "       'TSH_measured', 'TSH', 'T3_measured', 'T3', 'TT4_measured', 'TT4',\n",
              "       'T4U_measured', 'T4U', 'FTI_measured', 'FTI', 'TBG_measured', 'TBG'],\n",
              "      dtype='object')"
            ]
          },
          "metadata": {
            "tags": []
          },
          "execution_count": 5
        }
      ]
    },
    {
      "cell_type": "code",
      "metadata": {
        "colab": {
          "base_uri": "https://localhost:8080/"
        },
        "id": "lwXWGCQ-rLLo",
        "outputId": "442a67ba-6ee7-4c9d-b1ca-9e788bf4929a"
      },
      "source": [
        "print('This dataset has ' + str(df_thyroid.shape[0]) + ' rows, and ' + str(df_thyroid.shape[1]) + ' columns')"
      ],
      "execution_count": 28,
      "outputs": [
        {
          "output_type": "stream",
          "text": [
            "This dataset has 3163 rows, and 26 columns\n"
          ],
          "name": "stdout"
        }
      ]
    },
    {
      "cell_type": "code",
      "metadata": {
        "colab": {
          "base_uri": "https://localhost:8080/"
        },
        "id": "SWY_6RCMq9VS",
        "outputId": "887a3909-5305-4078-c07e-f5e8a222bdfb"
      },
      "source": [
        "df_thyroid.isna().any()\n",
        "#there aint any null values "
      ],
      "execution_count": 7,
      "outputs": [
        {
          "output_type": "execute_result",
          "data": {
            "text/plain": [
              "status                       False\n",
              "age                          False\n",
              "sex                          False\n",
              "on_thyroxine                 False\n",
              "query_on_thyroxine           False\n",
              "on_antithyroid_medication    False\n",
              "thyroid_surgery              False\n",
              "query_hypothyroid            False\n",
              "query_hyperthyroid           False\n",
              "pregnant                     False\n",
              "sick                         False\n",
              "tumor                        False\n",
              "lithium                      False\n",
              "goitre                       False\n",
              "TSH_measured                 False\n",
              "TSH                          False\n",
              "T3_measured                  False\n",
              "T3                           False\n",
              "TT4_measured                 False\n",
              "TT4                          False\n",
              "T4U_measured                 False\n",
              "T4U                          False\n",
              "FTI_measured                 False\n",
              "FTI                          False\n",
              "TBG_measured                 False\n",
              "TBG                          False\n",
              "dtype: bool"
            ]
          },
          "metadata": {
            "tags": []
          },
          "execution_count": 7
        }
      ]
    },
    {
      "cell_type": "code",
      "metadata": {
        "colab": {
          "base_uri": "https://localhost:8080/"
        },
        "id": "RcXdAysrrBrp",
        "outputId": "9d07add3-3e90-4f35-d2a8-e7f444fc7455"
      },
      "source": [
        "print(df_thyroid.duplicated().any())\n",
        "print(df_thyroid.duplicated().sum())"
      ],
      "execution_count": 12,
      "outputs": [
        {
          "output_type": "stream",
          "text": [
            "True\n",
            "77\n"
          ],
          "name": "stdout"
        }
      ]
    },
    {
      "cell_type": "code",
      "metadata": {
        "colab": {
          "base_uri": "https://localhost:8080/"
        },
        "id": "3i0GdgRkrF1v",
        "outputId": "6e579275-fc59-45d2-9ddd-1a42967aeb17"
      },
      "source": [
        "df_thyroid.dtypes"
      ],
      "execution_count": 13,
      "outputs": [
        {
          "output_type": "execute_result",
          "data": {
            "text/plain": [
              "status                       object\n",
              "age                          object\n",
              "sex                          object\n",
              "on_thyroxine                 object\n",
              "query_on_thyroxine           object\n",
              "on_antithyroid_medication    object\n",
              "thyroid_surgery              object\n",
              "query_hypothyroid            object\n",
              "query_hyperthyroid           object\n",
              "pregnant                     object\n",
              "sick                         object\n",
              "tumor                        object\n",
              "lithium                      object\n",
              "goitre                       object\n",
              "TSH_measured                 object\n",
              "TSH                          object\n",
              "T3_measured                  object\n",
              "T3                           object\n",
              "TT4_measured                 object\n",
              "TT4                          object\n",
              "T4U_measured                 object\n",
              "T4U                          object\n",
              "FTI_measured                 object\n",
              "FTI                          object\n",
              "TBG_measured                 object\n",
              "TBG                          object\n",
              "dtype: object"
            ]
          },
          "metadata": {
            "tags": []
          },
          "execution_count": 13
        }
      ]
    },
    {
      "cell_type": "code",
      "metadata": {
        "colab": {
          "base_uri": "https://localhost:8080/"
        },
        "id": "yDZzjotdrNg1",
        "outputId": "70ff9d57-d705-4d27-c162-35e06680b7c8"
      },
      "source": [
        "df_thyroid.info()\n",
        "#no  null or any missing values"
      ],
      "execution_count": 14,
      "outputs": [
        {
          "output_type": "stream",
          "text": [
            "<class 'pandas.core.frame.DataFrame'>\n",
            "RangeIndex: 3163 entries, 0 to 3162\n",
            "Data columns (total 26 columns):\n",
            " #   Column                     Non-Null Count  Dtype \n",
            "---  ------                     --------------  ----- \n",
            " 0   status                     3163 non-null   object\n",
            " 1   age                        3163 non-null   object\n",
            " 2   sex                        3163 non-null   object\n",
            " 3   on_thyroxine               3163 non-null   object\n",
            " 4   query_on_thyroxine         3163 non-null   object\n",
            " 5   on_antithyroid_medication  3163 non-null   object\n",
            " 6   thyroid_surgery            3163 non-null   object\n",
            " 7   query_hypothyroid          3163 non-null   object\n",
            " 8   query_hyperthyroid         3163 non-null   object\n",
            " 9   pregnant                   3163 non-null   object\n",
            " 10  sick                       3163 non-null   object\n",
            " 11  tumor                      3163 non-null   object\n",
            " 12  lithium                    3163 non-null   object\n",
            " 13  goitre                     3163 non-null   object\n",
            " 14  TSH_measured               3163 non-null   object\n",
            " 15  TSH                        3163 non-null   object\n",
            " 16  T3_measured                3163 non-null   object\n",
            " 17  T3                         3163 non-null   object\n",
            " 18  TT4_measured               3163 non-null   object\n",
            " 19  TT4                        3163 non-null   object\n",
            " 20  T4U_measured               3163 non-null   object\n",
            " 21  T4U                        3163 non-null   object\n",
            " 22  FTI_measured               3163 non-null   object\n",
            " 23  FTI                        3163 non-null   object\n",
            " 24  TBG_measured               3163 non-null   object\n",
            " 25  TBG                        3163 non-null   object\n",
            "dtypes: object(26)\n",
            "memory usage: 642.6+ KB\n"
          ],
          "name": "stdout"
        }
      ]
    },
    {
      "cell_type": "markdown",
      "metadata": {
        "id": "iTLX4z7bq7kx"
      },
      "source": [
        "**observations**\n",
        "\n",
        "* there are no any nulll values or missing values\n",
        "* but there are duplicated values which dont think theres any need of dropping since they are quite minimal\n",
        "* tbg column has very weird values of ????...whernever the tbg _measured has a value n\n",
        "* the datatypes of most of the columns can be 9float)datatype or (categorical)instead of (object)"
      ]
    },
    {
      "cell_type": "markdown",
      "metadata": {
        "id": "a2bU0Zm9to0V"
      },
      "source": [
        "### 5. Tidying the dataset"
      ]
    },
    {
      "cell_type": "code",
      "metadata": {
        "id": "tuDrSeRe04oI"
      },
      "source": [
        "#replace all occurrences of the required string\n",
        "df_thyroid= df_thyroid.replace('?', '0')"
      ],
      "execution_count": 14,
      "outputs": []
    },
    {
      "cell_type": "code",
      "metadata": {
        "colab": {
          "base_uri": "https://localhost:8080/"
        },
        "id": "3YrAiO53pG8H",
        "outputId": "2880cb44-31d4-4fa9-8931-2d2cb5a5d3f8"
      },
      "source": [
        "df_thyroid.TBG"
      ],
      "execution_count": 15,
      "outputs": [
        {
          "output_type": "execute_result",
          "data": {
            "text/plain": [
              "0       0\n",
              "1       0\n",
              "2       0\n",
              "3       0\n",
              "4       0\n",
              "       ..\n",
              "3158    0\n",
              "3159    0\n",
              "3160    0\n",
              "3161    0\n",
              "3162    0\n",
              "Name: TBG, Length: 3163, dtype: object"
            ]
          },
          "metadata": {
            "tags": []
          },
          "execution_count": 15
        }
      ]
    },
    {
      "cell_type": "code",
      "metadata": {
        "colab": {
          "base_uri": "https://localhost:8080/"
        },
        "id": "JvV0ypDXqShS",
        "outputId": "a38aec4a-b227-461c-e5a7-448546973a9e"
      },
      "source": [
        "df_thyroid.columns"
      ],
      "execution_count": 16,
      "outputs": [
        {
          "output_type": "execute_result",
          "data": {
            "text/plain": [
              "Index(['status', 'age', 'sex', 'on_thyroxine', 'query_on_thyroxine',\n",
              "       'on_antithyroid_medication', 'thyroid_surgery', 'query_hypothyroid',\n",
              "       'query_hyperthyroid', 'pregnant', 'sick', 'tumor', 'lithium', 'goitre',\n",
              "       'TSH_measured', 'TSH', 'T3_measured', 'T3', 'TT4_measured', 'TT4',\n",
              "       'T4U_measured', 'T4U', 'FTI_measured', 'FTI', 'TBG_measured', 'TBG'],\n",
              "      dtype='object')"
            ]
          },
          "metadata": {
            "tags": []
          },
          "execution_count": 16
        }
      ]
    },
    {
      "cell_type": "code",
      "metadata": {
        "id": "baXxozQRqPXG"
      },
      "source": [
        "# step 3: convert the 'strain' column to float, round to 2 decimal places\n",
        "df_thyroid['TSH'] = df_thyroid['TSH'].astype(float).round(2)\n",
        "df_thyroid['T3'] = df_thyroid['T3'].astype(float).round(2)\n",
        "df_thyroid['TT4'] = df_thyroid['TT4'].astype(float).round(2)\n",
        "df_thyroid['T4U'] = df_thyroid['T4U'].astype(float).round(2)\n",
        "df_thyroid['FTI'] = df_thyroid['FTI'].astype(float).round(2)\n",
        "df_thyroid['TBG'] = df_thyroid['TBG'].astype(float).round(2)\n"
      ],
      "execution_count": 17,
      "outputs": []
    },
    {
      "cell_type": "code",
      "metadata": {
        "colab": {
          "base_uri": "https://localhost:8080/"
        },
        "id": "UMYoKaprq96m",
        "outputId": "a9726c41-fef5-4c18-bed7-8f044e7941a5"
      },
      "source": [
        "df_thyroid.dtypes"
      ],
      "execution_count": 21,
      "outputs": [
        {
          "output_type": "execute_result",
          "data": {
            "text/plain": [
              "status                        object\n",
              "age                           object\n",
              "sex                           object\n",
              "on_thyroxine                  object\n",
              "query_on_thyroxine            object\n",
              "on_antithyroid_medication     object\n",
              "thyroid_surgery               object\n",
              "query_hypothyroid             object\n",
              "query_hyperthyroid            object\n",
              "pregnant                      object\n",
              "sick                          object\n",
              "tumor                         object\n",
              "lithium                       object\n",
              "goitre                        object\n",
              "TSH_measured                  object\n",
              "TSH                          float64\n",
              "T3_measured                   object\n",
              "T3                           float64\n",
              "TT4_measured                  object\n",
              "TT4                          float64\n",
              "T4U_measured                  object\n",
              "T4U                          float64\n",
              "FTI_measured                  object\n",
              "FTI                          float64\n",
              "TBG_measured                  object\n",
              "TBG                          float64\n",
              "dtype: object"
            ]
          },
          "metadata": {
            "tags": []
          },
          "execution_count": 21
        }
      ]
    },
    {
      "cell_type": "markdown",
      "metadata": {
        "id": "HlzHhCwp1ppI"
      },
      "source": [
        "### 6. Data analysis"
      ]
    },
    {
      "cell_type": "markdown",
      "metadata": {
        "id": "s1KDK5x71tS-"
      },
      "source": [
        "6a).Univariate Analysis"
      ]
    },
    {
      "cell_type": "code",
      "metadata": {
        "colab": {
          "base_uri": "https://localhost:8080/"
        },
        "id": "dwzPiFZtrsb_",
        "outputId": "664447e0-1d41-49b7-cfba-93ee48219074"
      },
      "source": [
        "df_thyroid.columns"
      ],
      "execution_count": 22,
      "outputs": [
        {
          "output_type": "execute_result",
          "data": {
            "text/plain": [
              "Index(['status', 'age', 'sex', 'on_thyroxine', 'query_on_thyroxine',\n",
              "       'on_antithyroid_medication', 'thyroid_surgery', 'query_hypothyroid',\n",
              "       'query_hyperthyroid', 'pregnant', 'sick', 'tumor', 'lithium', 'goitre',\n",
              "       'TSH_measured', 'TSH', 'T3_measured', 'T3', 'TT4_measured', 'TT4',\n",
              "       'T4U_measured', 'T4U', 'FTI_measured', 'FTI', 'TBG_measured', 'TBG'],\n",
              "      dtype='object')"
            ]
          },
          "metadata": {
            "tags": []
          },
          "execution_count": 22
        }
      ]
    },
    {
      "cell_type": "code",
      "metadata": {
        "colab": {
          "base_uri": "https://localhost:8080/",
          "height": 277
        },
        "id": "S7Uow3kzulej",
        "outputId": "5b8fcf6e-837d-448b-bdb0-bc9499ee62cf"
      },
      "source": [
        "df_thyroid.describe(exclude=None,percentiles=None)"
      ],
      "execution_count": 26,
      "outputs": [
        {
          "output_type": "execute_result",
          "data": {
            "text/html": [
              "<div>\n",
              "<style scoped>\n",
              "    .dataframe tbody tr th:only-of-type {\n",
              "        vertical-align: middle;\n",
              "    }\n",
              "\n",
              "    .dataframe tbody tr th {\n",
              "        vertical-align: top;\n",
              "    }\n",
              "\n",
              "    .dataframe thead th {\n",
              "        text-align: right;\n",
              "    }\n",
              "</style>\n",
              "<table border=\"1\" class=\"dataframe\">\n",
              "  <thead>\n",
              "    <tr style=\"text-align: right;\">\n",
              "      <th></th>\n",
              "      <th>TSH</th>\n",
              "      <th>T3</th>\n",
              "      <th>TT4</th>\n",
              "      <th>T4U</th>\n",
              "      <th>FTI</th>\n",
              "      <th>TBG</th>\n",
              "    </tr>\n",
              "  </thead>\n",
              "  <tbody>\n",
              "    <tr>\n",
              "      <th>count</th>\n",
              "      <td>3163.000000</td>\n",
              "      <td>3163.000000</td>\n",
              "      <td>3163.000000</td>\n",
              "      <td>3163.000000</td>\n",
              "      <td>3163.000000</td>\n",
              "      <td>3163.000000</td>\n",
              "    </tr>\n",
              "    <tr>\n",
              "      <th>mean</th>\n",
              "      <td>5.046782</td>\n",
              "      <td>1.513531</td>\n",
              "      <td>100.281031</td>\n",
              "      <td>0.901502</td>\n",
              "      <td>106.386310</td>\n",
              "      <td>2.571483</td>\n",
              "    </tr>\n",
              "    <tr>\n",
              "      <th>std</th>\n",
              "      <td>22.160083</td>\n",
              "      <td>1.191836</td>\n",
              "      <td>52.588757</td>\n",
              "      <td>0.341286</td>\n",
              "      <td>65.607474</td>\n",
              "      <td>10.204298</td>\n",
              "    </tr>\n",
              "    <tr>\n",
              "      <th>min</th>\n",
              "      <td>0.000000</td>\n",
              "      <td>0.000000</td>\n",
              "      <td>0.000000</td>\n",
              "      <td>0.000000</td>\n",
              "      <td>0.000000</td>\n",
              "      <td>0.000000</td>\n",
              "    </tr>\n",
              "    <tr>\n",
              "      <th>25%</th>\n",
              "      <td>0.000000</td>\n",
              "      <td>0.500000</td>\n",
              "      <td>76.000000</td>\n",
              "      <td>0.820000</td>\n",
              "      <td>85.000000</td>\n",
              "      <td>0.000000</td>\n",
              "    </tr>\n",
              "    <tr>\n",
              "      <th>50%</th>\n",
              "      <td>0.400000</td>\n",
              "      <td>1.600000</td>\n",
              "      <td>100.000000</td>\n",
              "      <td>0.940000</td>\n",
              "      <td>105.000000</td>\n",
              "      <td>0.000000</td>\n",
              "    </tr>\n",
              "    <tr>\n",
              "      <th>75%</th>\n",
              "      <td>1.800000</td>\n",
              "      <td>2.200000</td>\n",
              "      <td>124.000000</td>\n",
              "      <td>1.050000</td>\n",
              "      <td>126.000000</td>\n",
              "      <td>0.000000</td>\n",
              "    </tr>\n",
              "    <tr>\n",
              "      <th>max</th>\n",
              "      <td>530.000000</td>\n",
              "      <td>10.200000</td>\n",
              "      <td>450.000000</td>\n",
              "      <td>2.210000</td>\n",
              "      <td>881.000000</td>\n",
              "      <td>122.000000</td>\n",
              "    </tr>\n",
              "  </tbody>\n",
              "</table>\n",
              "</div>"
            ],
            "text/plain": [
              "               TSH           T3  ...          FTI          TBG\n",
              "count  3163.000000  3163.000000  ...  3163.000000  3163.000000\n",
              "mean      5.046782     1.513531  ...   106.386310     2.571483\n",
              "std      22.160083     1.191836  ...    65.607474    10.204298\n",
              "min       0.000000     0.000000  ...     0.000000     0.000000\n",
              "25%       0.000000     0.500000  ...    85.000000     0.000000\n",
              "50%       0.400000     1.600000  ...   105.000000     0.000000\n",
              "75%       1.800000     2.200000  ...   126.000000     0.000000\n",
              "max     530.000000    10.200000  ...   881.000000   122.000000\n",
              "\n",
              "[8 rows x 6 columns]"
            ]
          },
          "metadata": {
            "tags": []
          },
          "execution_count": 26
        }
      ]
    },
    {
      "cell_type": "code",
      "metadata": {
        "id": "JrjwdcjOxI1T"
      },
      "source": [
        "#IMPORT libraries For plotting\n",
        "from matplotlib import pyplot as plt\n",
        "import seaborn as sns\n",
        "%matplotlib inline"
      ],
      "execution_count": 27,
      "outputs": []
    },
    {
      "cell_type": "code",
      "metadata": {
        "colab": {
          "base_uri": "https://localhost:8080/",
          "height": 331
        },
        "id": "RbSY5Seqy7Vb",
        "outputId": "262d9d2c-ec52-4097-ad57-f4e49865770c"
      },
      "source": [
        "plt.figure(figsize=(13, 4))\n",
        "sns.countplot(df_thyroid.sex.dropna(), order = df_thyroid.sex.value_counts().index);"
      ],
      "execution_count": 29,
      "outputs": [
        {
          "output_type": "stream",
          "text": [
            "/usr/local/lib/python3.6/dist-packages/seaborn/_decorators.py:43: FutureWarning: Pass the following variable as a keyword arg: x. From version 0.12, the only valid positional argument will be `data`, and passing other arguments without an explicit keyword will result in an error or misinterpretation.\n",
            "  FutureWarning\n"
          ],
          "name": "stderr"
        },
        {
          "output_type": "display_data",
          "data": {
            "image/png": "[encoded data removed]",
            "text/plain": [
              "<Figure size 936x288 with 1 Axes>"
            ]
          },
          "metadata": {
            "tags": [],
            "needs_background": "light"
          }
        }
      ]
    },
    {
      "cell_type": "code",
      "metadata": {
        "colab": {
          "base_uri": "https://localhost:8080/",
          "height": 332
        },
        "id": "YYmWM0gIzNVm",
        "outputId": "cd365715-b90b-405f-dbc9-a7e5aa32e345"
      },
      "source": [
        "plt.figure(figsize=(13, 4))\n",
        "sns.countplot(df_thyroid.on_thyroxine.dropna(), order = df_thyroid.on_thyroxine.value_counts().index);"
      ],
      "execution_count": 30,
      "outputs": [
        {
          "output_type": "stream",
          "text": [
            "/usr/local/lib/python3.6/dist-packages/seaborn/_decorators.py:43: FutureWarning: Pass the following variable as a keyword arg: x. From version 0.12, the only valid positional argument will be `data`, and passing other arguments without an explicit keyword will result in an error or misinterpretation.\n",
            "  FutureWarning\n"
          ],
          "name": "stderr"
        },
        {
          "output_type": "display_data",
          "data": {
            "image/png": "[encoded data removed]",
            "text/plain": [
              "<Figure size 936x288 with 1 Axes>"
            ]
          },
          "metadata": {
            "tags": [],
            "needs_background": "light"
          }
        }
      ]
    },
    {
      "cell_type": "code",
      "metadata": {
        "id": "psOkhwIOz4AG"
      },
      "source": [
        "sns.pairplot(df_thyroid,hue=\"\")"
      ],
      "execution_count": null,
      "outputs": []
    }
  ]
}